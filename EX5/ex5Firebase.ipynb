{
  "nbformat": 4,
  "nbformat_minor": 0,
  "metadata": {
    "colab": {
      "provenance": [],
      "include_colab_link": true
    },
    "kernelspec": {
      "name": "python3",
      "display_name": "Python 3"
    },
    "language_info": {
      "name": "python"
    }
  },
  "cells": [
    {
      "cell_type": "markdown",
      "metadata": {
        "id": "view-in-github",
        "colab_type": "text"
      },
      "source": [
        "<a href=\"https://colab.research.google.com/github/SamiraDabbah1/Cloud_ex5/blob/main/ex5Firebase.ipynb\" target=\"_parent\"><img src=\"https://colab.research.google.com/assets/colab-badge.svg\" alt=\"Open In Colab\"/></a>"
      ]
    },
    {
      "cell_type": "code",
      "source": [
        "!pip install firebase"
      ],
      "metadata": {
        "colab": {
          "base_uri": "https://localhost:8080/"
        },
        "id": "xd3_KwK35Kvy",
        "outputId": "8bd9e204-940b-4683-c2ff-8e8a5f6af2de"
      },
      "execution_count": 5,
      "outputs": [
        {
          "output_type": "stream",
          "name": "stdout",
          "text": [
            "Requirement already satisfied: firebase in /usr/local/lib/python3.10/dist-packages (4.0.1)\n",
            "Requirement already satisfied: requests in /usr/local/lib/python3.10/dist-packages (from firebase) (2.31.0)\n",
            "Requirement already satisfied: charset-normalizer<4,>=2 in /usr/local/lib/python3.10/dist-packages (from requests->firebase) (3.3.2)\n",
            "Requirement already satisfied: idna<4,>=2.5 in /usr/local/lib/python3.10/dist-packages (from requests->firebase) (3.6)\n",
            "Requirement already satisfied: urllib3<3,>=1.21.1 in /usr/local/lib/python3.10/dist-packages (from requests->firebase) (2.0.7)\n",
            "Requirement already satisfied: certifi>=2017.4.17 in /usr/local/lib/python3.10/dist-packages (from requests->firebase) (2024.2.2)\n"
          ]
        }
      ]
    },
    {
      "cell_type": "code",
      "source": [
        "from firebase import firebase\n",
        "\n",
        "# Initialize Firebase connection\n",
        "FBconn = firebase.FirebaseApplication('https://cloud-ex5-5f818-default-rtdb.firebaseio.com/', None)\n",
        "\n",
        "# List of student data\n",
        "students_data = [\n",
        "    {\n",
        "        \"First Name\": \"Reema\",\n",
        "        \"Last Name\": \"Nasr\",\n",
        "        \"Email\": \"Reema.nasr@braude.ac.il\",\n",
        "        \"Courses\": [\n",
        "            \"Web Development\",\n",
        "            \"Data Mining\",\n",
        "            \"Operating Systems\"\n",
        "        ],\n",
        "        \"Favorite Program\": \"web\"\n",
        "    },\n",
        "    {\n",
        "        \"First Name\": \"Samira\",\n",
        "        \"Last Name\": \"Dabbah\",\n",
        "        \"Email\": \"samira.dabbah@braude.ac.il\",\n",
        "        \"Courses\": [\n",
        "            \"Web Development\",\n",
        "            \"Data Mining\",\n",
        "            \"Operating Systems\"\n",
        "        ],\n",
        "        \"Favorite Program\": \"Data Mining\"\n",
        "    },\n",
        "   {\n",
        "        \"First Name\": \"Shorok\",\n",
        "        \"Last Name\": \"Heeb\",\n",
        "        \"Email\": \"shorok.heeb@braude.ac.il\",\n",
        "        \"Courses\": [\n",
        "            \"Web Development\",\n",
        "            \"Data Mining\",\n",
        "            \"Operating Systems\"\n",
        "        ],\n",
        "        \"Favorite Program\": \"Web Development\"\n",
        "    },\n",
        "\n",
        "       {\n",
        "        \"First Name\": \"Marysoul\",\n",
        "        \"Last Name\": \"Karawany\",\n",
        "        \"Email\": \"Marysoul.Karawany@braude.ac.il\",\n",
        "        \"Courses\": [\n",
        "            \"Web Development\",\n",
        "            \"Data Mining\",\n",
        "            \"Operating Systems\"\n",
        "        ],\n",
        "        \"Favorite Program\": \"Operating Systems\"\n",
        "    }\n",
        "\n",
        "]\n",
        "\n",
        "# Upload student data to Firebase\n",
        "for student_data in students_data:\n",
        "    result = FBconn.post('/myTest2/', student_data)\n",
        "    print(result)\n",
        "\n"
      ],
      "metadata": {
        "colab": {
          "base_uri": "https://localhost:8080/"
        },
        "id": "CX_mzSNI5SEE",
        "outputId": "133617aa-ad5d-498a-f081-6c61c0ef87af"
      },
      "execution_count": 6,
      "outputs": [
        {
          "output_type": "stream",
          "name": "stdout",
          "text": [
            "{'name': '-NqgRCy6RiAoZH19Aeeu'}\n",
            "{'name': '-NqgRD-M5ObFrI9JBXPz'}\n",
            "{'name': '-NqgRD2iO35eMKgpFxbY'}\n",
            "{'name': '-NqgRD5TXNz76zCK1ni2'}\n"
          ]
        }
      ]
    },
    {
      "cell_type": "code",
      "source": [
        "import json\n",
        "from firebase import firebase\n",
        "FBconn = firebase.FirebaseApplication('https://cloud-ex5-5f818-default-rtdb.firebaseio.com/',None)\n",
        "res=FBconn.get('/myTest2/',None)\n",
        "\n",
        "for key in res:\n",
        "    print(key+\":\\t\", res[key])\n",
        "\n"
      ],
      "metadata": {
        "colab": {
          "base_uri": "https://localhost:8080/"
        },
        "id": "3nLm3Zd65d1N",
        "outputId": "7c4ec719-176f-404f-e105-80e7e4ab6b29"
      },
      "execution_count": 7,
      "outputs": [
        {
          "output_type": "stream",
          "name": "stdout",
          "text": [
            "-NqgRCy6RiAoZH19Aeeu:\t {'Courses': ['Web Development', 'Data Mining', 'Operating Systems'], 'Email': 'Reema.nasr@braude.ac.il', 'Favorite Program': 'web', 'First Name': 'Reema', 'Last Name': 'Nasr'}\n",
            "-NqgRD-M5ObFrI9JBXPz:\t {'Courses': ['Web Development', 'Data Mining', 'Operating Systems'], 'Email': 'samira.dabbah@braude.ac.il', 'Favorite Program': 'Data Mining', 'First Name': 'Samira', 'Last Name': 'Dabbah'}\n",
            "-NqgRD2iO35eMKgpFxbY:\t {'Courses': ['Web Development', 'Data Mining', 'Operating Systems'], 'Email': 'shorok.heeb@braude.ac.il', 'Favorite Program': 'Web Development', 'First Name': 'Shorok', 'Last Name': 'Heeb'}\n",
            "-NqgRD5TXNz76zCK1ni2:\t {'Courses': ['Web Development', 'Data Mining', 'Operating Systems'], 'Email': 'Marysoul.Karawany@braude.ac.il', 'Favorite Program': 'Operating Systems', 'First Name': 'Marysoul', 'Last Name': 'Karawany'}\n"
          ]
        }
      ]
    },
    {
      "cell_type": "code",
      "source": [],
      "metadata": {
        "id": "M8X3W9Yy-q_i"
      },
      "execution_count": null,
      "outputs": []
    },
    {
      "cell_type": "code",
      "source": [],
      "metadata": {
        "id": "RZdpuXKz5gx1"
      },
      "execution_count": null,
      "outputs": []
    }
  ]
}
{
  "nbformat": 4,
  "nbformat_minor": 0,
  "metadata": {
    "colab": {
      "provenance": [],
      "include_colab_link": true
    },
    "kernelspec": {
      "name": "python3",
      "display_name": "Python 3"
    },
    "language_info": {
      "name": "python"
    }
  },
  "cells": [
    {
      "cell_type": "markdown",
      "metadata": {
        "id": "view-in-github",
        "colab_type": "text"
      },
      "source": [
        "<a href=\"https://colab.research.google.com/github/SamiraDabbah1/Cloud_ex3/blob/main/ex4.ipynb\" target=\"_parent\"><img src=\"https://colab.research.google.com/assets/colab-badge.svg\" alt=\"Open In Colab\"/></a>"
      ]
    },
    {
      "cell_type": "code",
      "execution_count": 31,
      "metadata": {
        "colab": {
          "base_uri": "https://localhost:8080/"
        },
        "id": "CRy7A7pkytSc",
        "outputId": "efd89e88-9ea6-472a-e41a-2afff1364187"
      },
      "outputs": [
        {
          "output_type": "stream",
          "name": "stdout",
          "text": [
            "Drive already mounted at /content/drive; to attempt to forcibly remount, call drive.mount(\"/content/drive\", force_remount=True).\n",
            "Question 1: What is the output of the following Python code snippet? x = 5 y = 2 z = x * y print(z)\n",
            "Answers:\n",
            "1. 10\n",
            "2. 7\n",
            "3. 25\n",
            "4. 52\n",
            "Your answer: 1\n",
            "Correct!\n",
            "\n",
            "Question 2: Which of the following statements is true about Python lists?\n",
            "Answers:\n",
            "1. Lists are immutable\n",
            "2. Lists can contain items of different data types\n",
            "3. Lists are implemented as arrays in Python\n",
            "4. Lists cannot be nested\n",
            "Your answer: 2\n",
            "Correct!\n",
            "\n",
            "Question 3: What does the range() function in Python return?\n",
            "Answers:\n",
            "1. A list of numbers.\n",
            "2. A generator object that yields numbers.\n",
            "3. A tuple containing numbers.\n",
            "4. A dictionary with numbers as keys.\n",
            "Your answer: 3\n",
            "Incorrect! The correct answer is: A generator object that yields numbers.\n",
            "\n",
            "Question 4: Which of the following Python code snippets correctly opens a file named \"example.txt\" in read mode?\n",
            "Answers:\n",
            "1. file = open(\"example.txt\", \"w\")\n",
            "2. file = open(\"example.txt\", \"a\")\n",
            "3. file = open(\"example.txt\", \"r\")\n",
            "4. file = open(\"example.txt\", \"x\")\n",
            "Your answer: 3\n",
            "Correct!\n",
            "\n",
            "Question 5: What does the 'len()' function in Python do?\n",
            "Answers:\n",
            "1. Returns the length of an object\n",
            "2. Deletes an element from a list\n",
            "3. Converts an integer to a string\n",
            "4. Prints all elements in an object\n",
            "Your answer: 3\n",
            "Incorrect! The correct answer is: Returns the length of an object\n",
            "\n",
            "You got 3 out of 5 questions correct.\n"
          ]
        }
      ],
      "source": [
        "from google.colab import drive\n",
        "import json\n",
        "import ipywidgets as widgets\n",
        "from IPython.display import display\n",
        "from IPython.html.widgets import interactive\n",
        "\n",
        "drive.mount('/content/drive')\n",
        "file_path = '/content/drive/My Drive/questions.json' # file path in drive\n",
        "\n",
        "def read_questions_data(file_path):\n",
        "    with open(file_path, 'r') as file:\n",
        "        data = json.load(file)\n",
        "    return data\n",
        "\n",
        "data = read_questions_data(file_path)\n",
        "correct_answers = 0\n",
        "\n",
        "for question in data:\n",
        "    print(\"Question {}: {}\".format(question['number'], question['content']))\n",
        "    print(\"Answers:\")\n",
        "    # Iterate over each answer\n",
        "    for ans_num, ans_content in question['answers'].items():\n",
        "        print(\"{}. {}\".format(ans_num, ans_content))\n",
        "\n",
        "    # Prompt the user for input\n",
        "    user_answer = input(\"Your answer: \")\n",
        "\n",
        "    # Check if the user's answer is correct\n",
        "    correct_answer_key = question['correctAnswer']\n",
        "    correct_answer = question['answers'].get(correct_answer_key)\n",
        "    if correct_answer is not None and user_answer == correct_answer_key:\n",
        "        print(\"Correct!\")\n",
        "        correct_answers += 1\n",
        "    elif correct_answer is not None:\n",
        "        print(\"Incorrect! The correct answer is: {}\".format(correct_answer))\n",
        "    else:\n",
        "        print(\"No correct answer found for this question.\")\n",
        "    print()\n",
        "\n",
        "# Print the user's score\n",
        "print(\"You got {} out of {} questions correct.\".format(correct_answers, len(data)))\n",
        "\n"
      ]
    }
  ]
}
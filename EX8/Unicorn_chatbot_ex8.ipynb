{
  "cells": [
    {
      "cell_type": "markdown",
      "metadata": {
        "id": "view-in-github",
        "colab_type": "text"
      },
      "source": [
        "<a href=\"https://colab.research.google.com/github/SamiraDabbah1/Unicorn_Cloud/blob/main/Unicorn_chatbot_ex8.ipynb\" target=\"_parent\"><img src=\"https://colab.research.google.com/assets/colab-badge.svg\" alt=\"Open In Colab\"/></a>"
      ]
    },
    {
      "cell_type": "code",
      "execution_count": null,
      "metadata": {
        "colab": {
          "base_uri": "https://localhost:8080/"
        },
        "id": "yv6Iee4EAn8-",
        "outputId": "4ed90552-bc7e-4bc2-cec8-fd45d5623b72"
      },
      "outputs": [
        {
          "name": "stdout",
          "output_type": "stream",
          "text": [
            "Collecting colorama\n",
            "  Downloading colorama-0.4.6-py2.py3-none-any.whl (25 kB)\n",
            "Installing collected packages: colorama\n",
            "Successfully installed colorama-0.4.6\n"
          ]
        }
      ],
      "source": [
        "pip install colorama\n"
      ]
    },
    {
      "cell_type": "code",
      "execution_count": null,
      "metadata": {
        "colab": {
          "base_uri": "https://localhost:8080/"
        },
        "id": "X-CaQwSfvxTZ",
        "outputId": "2e92e4f3-ccd2-4cb2-bc82-a8d0a8f2fc08"
      },
      "outputs": [
        {
          "name": "stdout",
          "output_type": "stream",
          "text": [
            "Requirement already satisfied: nltk in /usr/local/lib/python3.10/dist-packages (3.8.1)\n",
            "Requirement already satisfied: click in /usr/local/lib/python3.10/dist-packages (from nltk) (8.1.7)\n",
            "Requirement already satisfied: joblib in /usr/local/lib/python3.10/dist-packages (from nltk) (1.3.2)\n",
            "Requirement already satisfied: regex>=2021.8.3 in /usr/local/lib/python3.10/dist-packages (from nltk) (2023.12.25)\n",
            "Requirement already satisfied: tqdm in /usr/local/lib/python3.10/dist-packages (from nltk) (4.66.2)\n"
          ]
        }
      ],
      "source": [
        "!pip install nltk"
      ]
    },
    {
      "cell_type": "code",
      "execution_count": null,
      "metadata": {
        "colab": {
          "base_uri": "https://localhost:8080/"
        },
        "id": "0U2PqkGeU3un",
        "outputId": "cea65bf4-37dc-41ae-aeca-e9b779cc461a"
      },
      "outputs": [
        {
          "metadata": {
            "tags": null
          },
          "name": "stderr",
          "output_type": "stream",
          "text": [
            "[nltk_data] Downloading package punkt to /root/nltk_data...\n",
            "[nltk_data]   Package punkt is already up-to-date!\n",
            "[nltk_data] Downloading package wordnet to /root/nltk_data...\n",
            "[nltk_data]   Package wordnet is already up-to-date!\n"
          ]
        },
        {
          "metadata": {
            "tags": null
          },
          "name": "stdout",
          "output_type": "stream",
          "text": [
            "\u001b[31m\u001b[1m************************************************************\u001b[0m\n",
            "\u001b[31m\u001b[1m*             Welcome to the DigitalOcean ChatBot            *\u001b[0m\n",
            "\u001b[31m\u001b[1m************************************************************\u001b[0m\n",
            "\u001b[31m\u001b[1mHello there! I'm here to assist you with anything related to DigitalOcean. Feel free to ask me anything!\u001b[0m\n",
            "\u001b[32m\u001b[1mDigitalOcean ChatBot:\u001b[0m Hi there!\n",
            "\u001b[32m\u001b[1mDigitalOcean ChatBot:\u001b[0m I'm doing well, thanks for asking.\n",
            "\u001b[32m\u001b[1mDigitalOcean ChatBot:\u001b[0m SaaS stands for Software as a Service, which is a cloud computing model where software applications are hosted by a third-party provider and made available to customers over the internet.\n",
            "\u001b[32m\u001b[1mDigitalOcean ChatBot:\u001b[0m DigitalOcean is a cloud infrastructure provider offering cloud services to help deploy, manage, and scale applications.\n",
            "\u001b[32m\u001b[1mDigitalOcean ChatBot:\u001b[0m IaaS stands for Infrastructure as a Service, which is a cloud computing model where virtualized computing resources are provided over the internet, allowing users to build and manage their own IT infrastructures.\n"
          ]
        }
      ],
      "source": [
        "import nltk\n",
        "from nltk.chat.util import Chat, reflections\n",
        "from colorama import Fore, Style\n",
        "\n",
        "# Download necessary NLTK data\n",
        "nltk.download('punkt')\n",
        "nltk.download('wordnet')\n",
        "\n",
        "# Define some patterns and responses related to cloud computing terms and your website index\n",
        "patterns = [\n",
        "    (r'hi|hello|hey', ['Hello!', 'Hi there!', 'Hey!']),\n",
        "    (r'how are you?', ['I\\'m good, thank you!', 'I\\'m doing well, thanks for asking.']),\n",
        "    (r'what is your name?', ['You can call me ChatGPT.', 'I go by the name ChatGPT.']),\n",
        "    (r'your name (.*)', ['You can call me ChatGPT.', 'I go by the name ChatGPT.']),\n",
        "    (r'digitalocean', ['DigitalOcean is a cloud infrastructure provider offering cloud services to help deploy, manage, and scale applications.']),\n",
        "    (r'droplets', ['Droplets are scalable virtual machines on DigitalOcean\\'s cloud platform.']),\n",
        "    (r'block storage', ['Block Storage provides scalable, high-performance storage for DigitalOcean Droplets.']),\n",
        "    (r'saas', ['SaaS stands for Software as a Service, which is a cloud computing model where software applications are hosted by a third-party provider and made available to customers over the internet.']),\n",
        "    (r'iaas', ['IaaS stands for Infrastructure as a Service, which is a cloud computing model where virtualized computing resources are provided over the internet, allowing users to build and manage their own IT infrastructures.']),\n",
        "    (r'what can you tell me about SaaS\\?', ['SaaS stands for Software as a Service, which is a cloud computing model where software applications are hosted by a third-party provider and made available to customers over the internet.']),\n",
        "    (r'what can you tell me about IaaS\\?', ['IaaS stands for Infrastructure as a Service, which is a cloud computing model where virtualized computing resources are provided over the internet, allowing users to build and manage their own IT infrastructures.']),\n",
        "    (r'what is cloud computing\\?', ['Cloud computing is the delivery of computing services over the internet, including servers, storage, databases, networking, software, analytics, and more.']),\n",
        "    (r'what are the benefits of cloud computing\\?', ['Some benefits of cloud computing include cost savings, scalability, flexibility, reliability, and security.']),\n",
        "    (r'what are the different deployment models in cloud computing\\?', ['The different deployment models in cloud computing include public cloud, private cloud, hybrid cloud, and multicloud.']),]\n",
        "\n",
        "# Create a chatbot\n",
        "chatbot = Chat(patterns, reflections)\n",
        "\n",
        "# Start the conversation\n",
        "print(Fore.RED + Style.BRIGHT + \"************************************************************\" + Style.RESET_ALL)\n",
        "print(Fore.RED + Style.BRIGHT + \"*             Welcome to the DigitalOcean ChatBot            *\" + Style.RESET_ALL)\n",
        "print(Fore.RED + Style.BRIGHT + \"************************************************************\" + Style.RESET_ALL)\n",
        "print(Fore.RED + Style.BRIGHT + \"Hello there! I'm here to assist you with anything related to DigitalOcean. Feel free to ask me anything!\" + Style.RESET_ALL)\n",
        "while True:\n",
        "    user_input = input(\"You: \")\n",
        "    response = chatbot.respond(user_input)\n",
        "    if response:\n",
        "        print(Fore.GREEN + Style.BRIGHT + \"DigitalOcean ChatBot:\" + Style.RESET_ALL, response)\n",
        "    else:\n",
        "        print(Fore.RED + Style.BRIGHT + \"DigitalOcean ChatBot: I apologize, but I'm having trouble comprehending your message. Could you please phrase it differently?\" + Style.RESET_ALL)\n"
      ]
    },
    {
      "cell_type": "code",
      "execution_count": null,
      "metadata": {
        "id": "yfkcHVZviCKv"
      },
      "outputs": [],
      "source": []
    }
  ],
  "metadata": {
    "colab": {
      "provenance": [],
      "authorship_tag": "ABX9TyPTkBgD/+b6qBX0sZwWx9dN",
      "include_colab_link": true
    },
    "kernelspec": {
      "display_name": "Python 3",
      "name": "python3"
    },
    "language_info": {
      "name": "python"
    }
  },
  "nbformat": 4,
  "nbformat_minor": 0
}
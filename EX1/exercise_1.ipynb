{
  "nbformat": 4,
  "nbformat_minor": 0,
  "metadata": {
    "colab": {
      "provenance": [],
      "include_colab_link": true
    },
    "kernelspec": {
      "name": "python3",
      "display_name": "Python 3"
    },
    "language_info": {
      "name": "python"
    },
    "widgets": {
      "application/vnd.jupyter.widget-state+json": {
        "048b0f517c90481f8f8085d09e29b8fc": {
          "model_module": "@jupyter-widgets/controls",
          "model_name": "TextModel",
          "model_module_version": "1.5.0",
          "state": {
            "_dom_classes": [],
            "_model_module": "@jupyter-widgets/controls",
            "_model_module_version": "1.5.0",
            "_model_name": "TextModel",
            "_view_count": null,
            "_view_module": "@jupyter-widgets/controls",
            "_view_module_version": "1.5.0",
            "_view_name": "TextView",
            "continuous_update": true,
            "description": "Favorite Program",
            "description_tooltip": null,
            "disabled": false,
            "layout": "IPY_MODEL_c70768aa31e74362bf0697726b9d61dd",
            "placeholder": "​",
            "style": "IPY_MODEL_97bc1759c55e4e43b682a2e3f753d92a",
            "value": ""
          }
        },
        "c70768aa31e74362bf0697726b9d61dd": {
          "model_module": "@jupyter-widgets/base",
          "model_name": "LayoutModel",
          "model_module_version": "1.2.0",
          "state": {
            "_model_module": "@jupyter-widgets/base",
            "_model_module_version": "1.2.0",
            "_model_name": "LayoutModel",
            "_view_count": null,
            "_view_module": "@jupyter-widgets/base",
            "_view_module_version": "1.2.0",
            "_view_name": "LayoutView",
            "align_content": null,
            "align_items": null,
            "align_self": null,
            "border": null,
            "bottom": null,
            "display": null,
            "flex": null,
            "flex_flow": null,
            "grid_area": null,
            "grid_auto_columns": null,
            "grid_auto_flow": null,
            "grid_auto_rows": null,
            "grid_column": null,
            "grid_gap": null,
            "grid_row": null,
            "grid_template_areas": null,
            "grid_template_columns": null,
            "grid_template_rows": null,
            "height": null,
            "justify_content": null,
            "justify_items": null,
            "left": null,
            "margin": null,
            "max_height": null,
            "max_width": null,
            "min_height": null,
            "min_width": null,
            "object_fit": null,
            "object_position": null,
            "order": null,
            "overflow": null,
            "overflow_x": null,
            "overflow_y": null,
            "padding": null,
            "right": null,
            "top": null,
            "visibility": null,
            "width": null
          }
        },
        "97bc1759c55e4e43b682a2e3f753d92a": {
          "model_module": "@jupyter-widgets/controls",
          "model_name": "DescriptionStyleModel",
          "model_module_version": "1.5.0",
          "state": {
            "_model_module": "@jupyter-widgets/controls",
            "_model_module_version": "1.5.0",
            "_model_name": "DescriptionStyleModel",
            "_view_count": null,
            "_view_module": "@jupyter-widgets/base",
            "_view_module_version": "1.2.0",
            "_view_name": "StyleView",
            "description_width": ""
          }
        },
        "e1afb193be504866a79859dee0e908f8": {
          "model_module": "@jupyter-widgets/controls",
          "model_name": "ButtonModel",
          "model_module_version": "1.5.0",
          "state": {
            "_dom_classes": [],
            "_model_module": "@jupyter-widgets/controls",
            "_model_module_version": "1.5.0",
            "_model_name": "ButtonModel",
            "_view_count": null,
            "_view_module": "@jupyter-widgets/controls",
            "_view_module_version": "1.5.0",
            "_view_name": "ButtonView",
            "button_style": "",
            "description": "Update Program",
            "disabled": false,
            "icon": "",
            "layout": "IPY_MODEL_3c3c0ca8216141ca8084e018fb79d17d",
            "style": "IPY_MODEL_ceab19e01ba34dddbab3b38c098fd67e",
            "tooltip": ""
          }
        },
        "3c3c0ca8216141ca8084e018fb79d17d": {
          "model_module": "@jupyter-widgets/base",
          "model_name": "LayoutModel",
          "model_module_version": "1.2.0",
          "state": {
            "_model_module": "@jupyter-widgets/base",
            "_model_module_version": "1.2.0",
            "_model_name": "LayoutModel",
            "_view_count": null,
            "_view_module": "@jupyter-widgets/base",
            "_view_module_version": "1.2.0",
            "_view_name": "LayoutView",
            "align_content": null,
            "align_items": null,
            "align_self": null,
            "border": null,
            "bottom": null,
            "display": null,
            "flex": null,
            "flex_flow": null,
            "grid_area": null,
            "grid_auto_columns": null,
            "grid_auto_flow": null,
            "grid_auto_rows": null,
            "grid_column": null,
            "grid_gap": null,
            "grid_row": null,
            "grid_template_areas": null,
            "grid_template_columns": null,
            "grid_template_rows": null,
            "height": null,
            "justify_content": null,
            "justify_items": null,
            "left": null,
            "margin": null,
            "max_height": null,
            "max_width": null,
            "min_height": null,
            "min_width": null,
            "object_fit": null,
            "object_position": null,
            "order": null,
            "overflow": null,
            "overflow_x": null,
            "overflow_y": null,
            "padding": null,
            "right": null,
            "top": null,
            "visibility": null,
            "width": null
          }
        },
        "ceab19e01ba34dddbab3b38c098fd67e": {
          "model_module": "@jupyter-widgets/controls",
          "model_name": "ButtonStyleModel",
          "model_module_version": "1.5.0",
          "state": {
            "_model_module": "@jupyter-widgets/controls",
            "_model_module_version": "1.5.0",
            "_model_name": "ButtonStyleModel",
            "_view_count": null,
            "_view_module": "@jupyter-widgets/base",
            "_view_module_version": "1.2.0",
            "_view_name": "StyleView",
            "button_color": null,
            "font_weight": ""
          }
        }
      }
    }
  },
  "cells": [
    {
      "cell_type": "markdown",
      "metadata": {
        "id": "view-in-github",
        "colab_type": "text"
      },
      "source": [
        "<a href=\"https://colab.research.google.com/github/SamiraDabbah1/Cloud-ex1/blob/main/exercise_1.ipynb\" target=\"_parent\"><img src=\"https://colab.research.google.com/assets/colab-badge.svg\" alt=\"Open In Colab\"/></a>"
      ]
    },
    {
      "cell_type": "code",
      "source": [
        "!pip install numpy\n"
      ],
      "metadata": {
        "colab": {
          "base_uri": "https://localhost:8080/"
        },
        "id": "eA_8RT630HNj",
        "outputId": "5e0ae3e4-ec89-4317-f17b-d99bb15614d6"
      },
      "execution_count": null,
      "outputs": [
        {
          "output_type": "stream",
          "name": "stdout",
          "text": [
            "Requirement already satisfied: numpy in /usr/local/lib/python3.10/dist-packages (1.23.5)\n"
          ]
        }
      ]
    },
    {
      "cell_type": "code",
      "source": [
        "from google.colab import drive\n",
        "drive.mount('/content/drive')\n",
        "\n",
        "# @title Students Details\n",
        "student_name = \"Samira Dabbah\" # @param [\"Reema Nasr\", \"Samira Dabbah\",\"Randa Assadi\",\"Shorok Heib\",\"Marysoul karawany\",\"Saeed Ismael\"]\n",
        "\n",
        "with open('/content/drive/My Drive/Students.txt', 'r') as file:\n",
        "     # Read all lines from the file\n",
        "    lines = file.readlines()\n",
        "    # Skip the header row (line 0) and loop through each subsequent line\n",
        "    for line in lines[1:]:\n",
        "        # Split the line based on tabs\n",
        "        data = line.split()\n",
        "        # Check if the first and last names match the selected student_name\n",
        "        if data[0].strip() == student_name.split()[0] and data[1].strip() == student_name.split()[1]:\n",
        "            # Print all details for the selected student\n",
        "            print(\"First Name:\", data[0].strip())\n",
        "            print(\"Last Name:\", data[1].strip())\n",
        "            print(\"Email:\", data[2].strip())\n",
        "            print(\"Courses Name:\", data[3].strip())\n",
        "            print(\"Link:\", data[4].strip())\n",
        "\n",
        "import ipywidgets as widgets\n",
        "from IPython.display import display\n",
        "new_program = widgets.Text(description=\"Favorite Program\", value=\"\") # Add a text box for updating the favorite program\n",
        "update_button = widgets.Button(description=\"Update Program\") # Add a button to trigger the update\n",
        "\n",
        "display(new_program, update_button)\n",
        "\n",
        "def update_program(button):\n",
        "    with open('/content/drive/My Drive/Students.txt', 'r') as file:\n",
        "        # Read all lines from the file\n",
        "        lines = file.readlines()\n",
        "\n",
        "    # Loop through each line\n",
        "    for i, line in enumerate(lines[1:]):  # Skip the header row (line 0)\n",
        "        # Split the line based on any whitespace characters\n",
        "        data = line.split()\n",
        "\n",
        "        # Check if the first and last names match the selected student_name\n",
        "        if data[0].strip() == student_name.split()[0] and data[1].strip() == student_name.split()[1]:\n",
        "            # Update the favorite program for the selected student\n",
        "            lines[i + 1] = f\"{data[0]} {data[1]}\\t{data[2]}\\t{data[3]}\\t{data[4]}\\t{new_program.value}\\n\"\n",
        "            break  # Exit the loop after updating the program\n",
        "\n",
        "    # Write the updated data back to the file\n",
        "    with open('/content/drive/My Drive/Students.txt', 'w') as file:\n",
        "        file.writelines(lines)\n",
        "\n",
        "    print(f\"Favorite program updated for {student_name} to: {new_program.value}\")\n",
        "\n",
        "# Attach the update_program function to the button's on_click event\n",
        "update_button.on_click(update_program)\n",
        "\n"
      ],
      "metadata": {
        "colab": {
          "base_uri": "https://localhost:8080/",
          "height": 185,
          "referenced_widgets": [
            "048b0f517c90481f8f8085d09e29b8fc",
            "c70768aa31e74362bf0697726b9d61dd",
            "97bc1759c55e4e43b682a2e3f753d92a",
            "e1afb193be504866a79859dee0e908f8",
            "3c3c0ca8216141ca8084e018fb79d17d",
            "ceab19e01ba34dddbab3b38c098fd67e"
          ]
        },
        "id": "CUkG92xT2l3C",
        "outputId": "63a3b417-0323-4115-83b6-fbc2e3faeb35"
      },
      "execution_count": null,
      "outputs": [
        {
          "output_type": "stream",
          "name": "stdout",
          "text": [
            "Mounted at /content/drive\n",
            "First Name: Samira\n",
            "Last Name: Dabbah\n",
            "Email: samira.dabbah@e.braude.ac.il\n",
            "Courses Name: computing\n",
            "Link: https://www.instagram.com/\n"
          ]
        },
        {
          "output_type": "display_data",
          "data": {
            "text/plain": [
              "Text(value='', description='Favorite Program')"
            ],
            "application/vnd.jupyter.widget-view+json": {
              "version_major": 2,
              "version_minor": 0,
              "model_id": "048b0f517c90481f8f8085d09e29b8fc"
            }
          },
          "metadata": {}
        },
        {
          "output_type": "display_data",
          "data": {
            "text/plain": [
              "Button(description='Update Program', style=ButtonStyle())"
            ],
            "application/vnd.jupyter.widget-view+json": {
              "version_major": 2,
              "version_minor": 0,
              "model_id": "e1afb193be504866a79859dee0e908f8"
            }
          },
          "metadata": {}
        }
      ]
    }
  ]
}